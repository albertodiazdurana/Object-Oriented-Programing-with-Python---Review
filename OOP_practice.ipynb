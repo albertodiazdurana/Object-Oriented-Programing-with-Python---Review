{
 "cells": [
  {
   "cell_type": "markdown",
   "metadata": {},
   "source": [
    "# Clases and Objects"
   ]
  },
  {
   "cell_type": "code",
   "execution_count": 3,
   "metadata": {},
   "outputs": [],
   "source": [
    "class MyClass:\n",
    "    variable = \"blah\"\n",
    "\n",
    "    def function(self):\n",
    "        print(\"This is a message inside the class.\")"
   ]
  },
  {
   "cell_type": "code",
   "execution_count": 4,
   "metadata": {},
   "outputs": [
    {
     "data": {
      "text/plain": [
       "__main__.MyClass"
      ]
     },
     "execution_count": 4,
     "metadata": {},
     "output_type": "execute_result"
    }
   ],
   "source": [
    "MyClass"
   ]
  },
  {
   "cell_type": "code",
   "execution_count": 5,
   "metadata": {},
   "outputs": [
    {
     "name": "stdout",
     "output_type": "stream",
     "text": [
      "This is a message inside the class.\n"
     ]
    }
   ],
   "source": [
    "my_instance = MyClass()\n",
    "my_instance.function()"
   ]
  },
  {
   "cell_type": "code",
   "execution_count": 6,
   "metadata": {},
   "outputs": [
    {
     "data": {
      "text/plain": [
       "'blah'"
      ]
     },
     "execution_count": 6,
     "metadata": {},
     "output_type": "execute_result"
    }
   ],
   "source": [
    "my_instance.variable"
   ]
  },
  {
   "cell_type": "code",
   "execution_count": 10,
   "metadata": {},
   "outputs": [
    {
     "name": "stdout",
     "output_type": "stream",
     "text": [
      "blah\n",
      "yackity\n"
     ]
    }
   ],
   "source": [
    "class MyClass:\n",
    "    variable = \"blah\"\n",
    "\n",
    "    def function(self):\n",
    "        print(\"This is a message inside the class.\")\n",
    "\n",
    "myobject_x = MyClass()\n",
    "myobject_y = MyClass()\n",
    "\n",
    "myobject_y.variable = \"yackity\"\n",
    "\n",
    "# Then print out both values\n",
    "print(myobject_x.variable)\n",
    "print(myobject_y.variable)"
   ]
  },
  {
   "cell_type": "code",
   "execution_count": 12,
   "metadata": {},
   "outputs": [
    {
     "name": "stdout",
     "output_type": "stream",
     "text": [
      "7\n"
     ]
    }
   ],
   "source": [
    "class NumberHolder:\n",
    "\n",
    "   def __init__(self, number):\n",
    "       self.number = number\n",
    "\n",
    "   def returnNumber(self):\n",
    "       return self.number\n",
    "\n",
    "var = NumberHolder(7)\n",
    "print(var.returnNumber()) #Prints '7'"
   ]
  },
  {
   "cell_type": "markdown",
   "metadata": {},
   "source": [
    "Exercise\n",
    "We have a class defined for vehicles. Create two new vehicles called car1 and car2. Set car1 to be a red convertible worth $60,000.00 with a name of Fer, and car2 to be a blue van named Jump worth $10,000.00."
   ]
  },
  {
   "cell_type": "code",
   "execution_count": 14,
   "metadata": {},
   "outputs": [
    {
     "name": "stdout",
     "output_type": "stream",
     "text": [
      "Fer is a red car worth $60000.00.\n",
      "Jump is a blue car worth $10000.00.\n"
     ]
    }
   ],
   "source": [
    "# define the Vehicle class\n",
    "class Vehicle:\n",
    "    name = \"\"\n",
    "    kind = \"car\"\n",
    "    color = \"\"\n",
    "    value = 100.00\n",
    "    def description(self):\n",
    "        desc_str = \"%s is a %s %s worth $%.2f.\" % (self.name, self.color, self.kind, self.value)\n",
    "        return desc_str\n",
    "# your code goes here\n",
    "car1 = Vehicle()\n",
    "car2 = Vehicle()\n",
    "\n",
    "car1.name = \"Fer\"\n",
    "car1.color = \"red\"\n",
    "car1.value = 60000\n",
    "\n",
    "car2.name = \"Jump\"\n",
    "car2.color = \"blue\"\n",
    "car2.value = 10000\n",
    "\n",
    "# test code\n",
    "print(car1.description())\n",
    "print(car2.description())"
   ]
  },
  {
   "cell_type": "markdown",
   "metadata": {},
   "source": [
    "# Inheritance Example"
   ]
  },
  {
   "cell_type": "markdown",
   "metadata": {},
   "source": [
    "## Base Class"
   ]
  },
  {
   "cell_type": "code",
   "execution_count": 21,
   "metadata": {},
   "outputs": [
    {
     "name": "stdout",
     "output_type": "stream",
     "text": [
      "Juan Perez\n"
     ]
    }
   ],
   "source": [
    "class Father:\n",
    "    # The keyword 'self' is used to represent the instance of a class.\n",
    "    # By using the \"self\" keyword we access the attributes and methods of the class in python.\n",
    "    # The method \"__init__\"  is called as a constructor in object oriented terminology.\n",
    "    # This method is called when an object is created from a class.\n",
    "    # it allows the class to initialize the attributes of the class.\n",
    "    def __init__(self, name, lastname):\n",
    "        self.name = name\n",
    "        self.lastname = lastname\n",
    " \n",
    "    def printname(self):\n",
    "        print(self.name, self.lastname)\n",
    " \n",
    " \n",
    "# Use the Father class to create an object, and then execute the printname method:\n",
    " \n",
    "x = Father(\"Juan\", \"Perez\")\n",
    "x.printname()"
   ]
  },
  {
   "cell_type": "markdown",
   "metadata": {},
   "source": [
    "## Derived class"
   ]
  },
  {
   "cell_type": "code",
   "execution_count": 22,
   "metadata": {},
   "outputs": [
    {
     "name": "stdout",
     "output_type": "stream",
     "text": [
      "Andres Martinez\n"
     ]
    }
   ],
   "source": [
    "# The subclass __init__() function overrides the inheritance of the base class __init__() function.\n",
    " \n",
    "class Son(Father):\n",
    "    def __init__(self, name, lastname):\n",
    "        Father.__init__(self, name, lastname)\n",
    " \n",
    " \n",
    "x = Son(\"Andres\", \"Martinez\")\n",
    "x.printname()"
   ]
  },
  {
   "cell_type": "markdown",
   "metadata": {},
   "source": [
    "## Use of super() function"
   ]
  },
  {
   "cell_type": "code",
   "execution_count": 24,
   "metadata": {},
   "outputs": [
    {
     "name": "stdout",
     "output_type": "stream",
     "text": [
      "Nick McCoy\n"
     ]
    }
   ],
   "source": [
    "class Father:\n",
    "  def __init__(self, name, lastname):\n",
    "    self.name = name\n",
    "    self.lastname = lastname\n",
    " \n",
    "  def printname(self):\n",
    "    print(self.name, self.lastname)\n",
    " \n",
    "class Son(Father):\n",
    "  def __init__(self, name, lastname):\n",
    "    super().__init__(name, lastname)\n",
    " \n",
    "x = Son(\"Nick\", \"McCoy\")\n",
    "x.printname()"
   ]
  },
  {
   "cell_type": "markdown",
   "metadata": {},
   "source": [
    "# Polymorphism with Classes and Objects"
   ]
  },
  {
   "cell_type": "code",
   "execution_count": 25,
   "metadata": {},
   "outputs": [
    {
     "name": "stdout",
     "output_type": "stream",
     "text": [
      "This function determines the age of Rabbit.\n",
      "This function determines the color of Rabbit.\n",
      "This function determines the age of Horse.\n",
      "This function determines the color of Horse.\n"
     ]
    }
   ],
   "source": [
    "class Rabbit(): \n",
    "    def age(self): \n",
    "        print(\"This function determines the age of Rabbit.\") \n",
    "   \n",
    "    def color(self): \n",
    "        print(\"This function determines the color of Rabbit.\") \n",
    "   \n",
    "class Horse(): \n",
    "    def age(self): \n",
    "        print(\"This function determines the age of Horse.\") \n",
    "   \n",
    "    def color(self): \n",
    "        print(\"This function determines the color of Horse.\") \n",
    "   \n",
    "obj1 = Rabbit() \n",
    "obj2 = Horse() \n",
    "for type in (obj1, obj2): # creating a loop to iterate through the obj1, obj2\n",
    "    type.age() \n",
    "    type.color() "
   ]
  },
  {
   "cell_type": "markdown",
   "metadata": {},
   "source": [
    "# Polymorphism with Inheritance"
   ]
  },
  {
   "cell_type": "code",
   "execution_count": 26,
   "metadata": {},
   "outputs": [
    {
     "name": "stdout",
     "output_type": "stream",
     "text": [
      "Various types of animals\n",
      "Age of the animal.\n",
      "Various types of animals\n",
      "Age of rabbit.\n",
      "Various types of animals\n",
      "Age of horse.\n"
     ]
    }
   ],
   "source": [
    "class Animal: \n",
    "  def type(self): \n",
    "    print(\"Various types of animals\") \n",
    "       \n",
    "  def age(self): \n",
    "    print(\"Age of the animal.\") \n",
    "     \n",
    "class Rabbit(Animal): \n",
    "  def age(self): \n",
    "    print(\"Age of rabbit.\") \n",
    "       \n",
    "class Horse(Animal): \n",
    "  def age(self): \n",
    "    print(\"Age of horse.\") \n",
    "       \n",
    "obj_animal = Animal() \n",
    "obj_rabbit = Rabbit() \n",
    "obj_horse = Horse() \n",
    "   \n",
    "obj_animal.type() \n",
    "obj_animal.age() \n",
    "   \n",
    "obj_rabbit.type() \n",
    "obj_rabbit.age() \n",
    "   \n",
    "obj_horse.type() \n",
    "obj_horse.age() \n"
   ]
  }
 ],
 "metadata": {
  "kernelspec": {
   "display_name": "ENGenv",
   "language": "python",
   "name": "python3"
  },
  "language_info": {
   "codemirror_mode": {
    "name": "ipython",
    "version": 3
   },
   "file_extension": ".py",
   "mimetype": "text/x-python",
   "name": "python",
   "nbconvert_exporter": "python",
   "pygments_lexer": "ipython3",
   "version": "3.10.9"
  }
 },
 "nbformat": 4,
 "nbformat_minor": 2
}
