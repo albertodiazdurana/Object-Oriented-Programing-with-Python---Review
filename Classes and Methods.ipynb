{
 "cells": [
  {
   "cell_type": "code",
   "execution_count": 10,
   "metadata": {},
   "outputs": [
    {
     "ename": "TypeError",
     "evalue": "Employee.__init__() missing 4 required positional arguments: 'id', 'firstName', 'lastName', and 'salary'",
     "output_type": "error",
     "traceback": [
      "\u001b[0;31m---------------------------------------------------------------------------\u001b[0m",
      "\u001b[0;31mTypeError\u001b[0m                                 Traceback (most recent call last)",
      "\u001b[1;32m/Users/alberto.diazdurana/Documents/GitHub/Object-Oriented-Programing-with-Python---Review/Employee.ipynb Cell 1\u001b[0m line \u001b[0;36m1\n\u001b[1;32m     <a href='vscode-notebook-cell:/Users/alberto.diazdurana/Documents/GitHub/Object-Oriented-Programing-with-Python---Review/Employee.ipynb#W0sZmlsZQ%3D%3D?line=15'>16</a>\u001b[0m         \u001b[39mprint\u001b[39m(\u001b[39m\"\u001b[39m\u001b[39mEmployee ID: \u001b[39m\u001b[39m\"\u001b[39m, \u001b[39mself\u001b[39m\u001b[39m.\u001b[39mid, \u001b[39m\"\u001b[39m\u001b[39m\\n\u001b[39;00m\u001b[39mFirst Name: \u001b[39m\u001b[39m\"\u001b[39m, \u001b[39mself\u001b[39m\u001b[39m.\u001b[39mfirstName, \u001b[39m\"\u001b[39m\u001b[39m\\n\u001b[39;00m\u001b[39mLast Name: \u001b[39m\u001b[39m\"\u001b[39m, \u001b[39mself\u001b[39m\u001b[39m.\u001b[39mlastName, \u001b[39m\"\u001b[39m\u001b[39m\\n\u001b[39;00m\u001b[39mSalary: \u001b[39m\u001b[39m\"\u001b[39m, \u001b[39mself\u001b[39m\u001b[39m.\u001b[39msalary)\n\u001b[1;32m     <a href='vscode-notebook-cell:/Users/alberto.diazdurana/Documents/GitHub/Object-Oriented-Programing-with-Python---Review/Employee.ipynb#W0sZmlsZQ%3D%3D?line=17'>18</a>\u001b[0m \u001b[39m# Create Objects\u001b[39;00m\n\u001b[0;32m---> <a href='vscode-notebook-cell:/Users/alberto.diazdurana/Documents/GitHub/Object-Oriented-Programing-with-Python---Review/Employee.ipynb#W0sZmlsZQ%3D%3D?line=18'>19</a>\u001b[0m emp1 \u001b[39m=\u001b[39m Employee()\n\u001b[1;32m     <a href='vscode-notebook-cell:/Users/alberto.diazdurana/Documents/GitHub/Object-Oriented-Programing-with-Python---Review/Employee.ipynb#W0sZmlsZQ%3D%3D?line=19'>20</a>\u001b[0m emp2 \u001b[39m=\u001b[39m Employee(\u001b[39m1234\u001b[39m, \u001b[39m\"\u001b[39m\u001b[39mBob\u001b[39m\u001b[39m\"\u001b[39m, \u001b[39m\"\u001b[39m\u001b[39mSmith\u001b[39m\u001b[39m\"\u001b[39m, \u001b[39m36000\u001b[39m)\n\u001b[1;32m     <a href='vscode-notebook-cell:/Users/alberto.diazdurana/Documents/GitHub/Object-Oriented-Programing-with-Python---Review/Employee.ipynb#W0sZmlsZQ%3D%3D?line=21'>22</a>\u001b[0m emp1\u001b[39m.\u001b[39mdisplay()\n",
      "\u001b[0;31mTypeError\u001b[0m: Employee.__init__() missing 4 required positional arguments: 'id', 'firstName', 'lastName', and 'salary'"
     ]
    }
   ],
   "source": [
    "class Employee:\n",
    "    def __init__(self) -> None:\n",
    "        self.id = 1000\n",
    "        self.firstName = 'Unknown'\n",
    "        self.lastName = 'Unknown'\n",
    "        self.salary = 0\n",
    "    \n",
    "    # Overloading\n",
    "    def __init__(self, id, firstName, lastName, salary) -> None:\n",
    "        self.id = id\n",
    "        self.firstName = firstName\n",
    "        self.lastName = lastName\n",
    "        self.salary = salary\n",
    "\n",
    "    def display(self):\n",
    "        print(\"Employee ID: \", self.id, \"\\nFirst Name: \", self.firstName, \"\\nLast Name: \", self.lastName, \"\\nSalary: \", self.salary)\n",
    "\n",
    "# Create Objects\n",
    "emp1 = Employee()\n",
    "emp2 = Employee(1234, \"Bob\", \"Smith\", 36000)\n",
    "\n",
    "emp1.display()\n",
    "emp2.display()"
   ]
  },
  {
   "cell_type": "code",
   "execution_count": 12,
   "metadata": {},
   "outputs": [
    {
     "name": "stdout",
     "output_type": "stream",
     "text": [
      "Employee ID:  1000 \n",
      "First Name:  Unknown \n",
      "Last Name:  Unknown \n",
      "Salary:  0 \n",
      "\n",
      "\n",
      "Employee ID:  2345 \n",
      "First Name:  Tina \n",
      "Last Name:  Smith \n",
      "Salary:  3333 \n",
      "\n",
      "\n",
      "Employee ID:  1234 \n",
      "First Name:  Bob \n",
      "Last Name:  Smith \n",
      "Salary:  36000 \n",
      "\n"
     ]
    }
   ],
   "source": [
    "class Employee:\n",
    "    def __init__(self, *args):\n",
    "        if len(args) < 4:\n",
    "            self.id = 1000\n",
    "            self.firstName = 'Unknown'\n",
    "            self.lastName = 'Unknown'\n",
    "            self.salary = 0\n",
    "        # not Overloading\n",
    "        else:\n",
    "            self.id = args[0]\n",
    "            self.firstName = args[1]\n",
    "            self.lastName = args[2]\n",
    "            self.salary = args[3]\n",
    "\n",
    "    # getrs and setrs\n",
    "    def getID(self):\n",
    "        return self.id #pass itself\n",
    "    def getFirstName(self):\n",
    "        return self.firstName\n",
    "    def getLastName(self):\n",
    "        return self.lastName\n",
    "    def getSalary(self):\n",
    "        return self.salary\n",
    "\n",
    "    def setID(self, id):\n",
    "        self.id = id\n",
    "    def setFirstName(self, firstName):\n",
    "        self.firstName = firstName\n",
    "    def setLastName(self,lastName):\n",
    "        self.lastName = lastName\n",
    "    def setSalary(self, salary):\n",
    "        self.salary = salary\n",
    "\n",
    "    def display(self):\n",
    "        print(\"Employee ID: \", self.id, \"\\nFirst Name: \", self.firstName, \"\\nLast Name: \", self.lastName, \"\\nSalary: \", self.salary, \"\\n\")\n",
    "\n",
    "# Create Objects\n",
    "emp1 = Employee()\n",
    "emp1.display()\n",
    "emp2 = Employee(1234, \"Bob\", \"Smith\", 36000)\n",
    "print()\n",
    "emp1.setID(2345)\n",
    "emp1.setFirstName(\"Tina\")\n",
    "emp1.setLastName(\"Smith\")\n",
    "emp1.setSalary(3333)\n",
    "emp1.display()\n",
    "print()\n",
    "emp2.display()\n"
   ]
  },
  {
   "cell_type": "markdown",
   "metadata": {},
   "source": [
    "In this quiz you will practice using objects and classes. The quiz will have you write an application that will  take input from the user and use that data to create an object.\n",
    "\n",
    "1.\n",
    "Question 1\n",
    "A student has the following attributes: first name, last name, gender, year (first-year student, sophomore, junior, or senior) and grade point average (GPA).\n",
    "\n",
    "Create the following methods for the student class:\n",
    "\n",
    "The show_student method will simply print all the attribute variables. Input: None\n",
    "\n",
    "The student_study_time method will increase the GPA of the student (formula: gpa = gpa + log(study_time)). The only input argument of this method is the variable study_time. The highest GPA can not be higher than 4.0. Input: study_time\n",
    "\n",
    "Define five student objects and store the objects in a list called student_GPA. Make sure you assign the gender when you instantiate the objects. Then display the objects using show_student. Use your objects from above and let each one of the five students study for 30, 60, 90, 120 and 180 minutes, respectively.  Then display the objects using show_student. "
   ]
  },
  {
   "cell_type": "code",
   "execution_count": 15,
   "metadata": {},
   "outputs": [
    {
     "name": "stdout",
     "output_type": "stream",
     "text": [
      "Student Information:\n",
      "Name: John Doe\n",
      "Gender: Male\n",
      "Year: Sophomore\n",
      "GPA: 1.50\n",
      "Name: Jane Smith\n",
      "Gender: Other\n",
      "Year: Junior\n",
      "GPA: 3.20\n",
      "Name: Mike Johnson\n",
      "Gender: Prefers not to say\n",
      "Year: First-year student\n",
      "GPA: 2.80\n",
      "Name: Emily Brown\n",
      "Gender: Female\n",
      "Year: Senior\n",
      "GPA: 0.90\n",
      "Name: Chris Lee\n",
      "Gender: Male\n",
      "Year: Junior\n",
      "GPA: 3.70\n",
      "\n",
      "Student Information after Studying:\n",
      "Name: John Doe\n",
      "Gender: Male\n",
      "Year: Sophomore\n",
      "GPA: 4.00\n",
      "Name: Jane Smith\n",
      "Gender: Other\n",
      "Year: Junior\n",
      "GPA: 4.00\n",
      "Name: Mike Johnson\n",
      "Gender: Prefers not to say\n",
      "Year: First-year student\n",
      "GPA: 4.00\n",
      "Name: Emily Brown\n",
      "Gender: Female\n",
      "Year: Senior\n",
      "GPA: 4.00\n",
      "Name: Chris Lee\n",
      "Gender: Male\n",
      "Year: Junior\n",
      "GPA: 4.00\n"
     ]
    }
   ],
   "source": [
    "import math\n",
    "\n",
    "class Student:\n",
    "    def __init__(self, first_name, last_name, gender, year, gpa):\n",
    "        self.first_name = first_name\n",
    "        self.last_name = last_name\n",
    "        self.gender = gender\n",
    "        self.year = year\n",
    "        self.gpa = gpa\n",
    "\n",
    "    # Print all the attribute variables. Input: None\n",
    "    def show_student(self):\n",
    "        print(f\"Name: {self.first_name} {self.last_name}\")\n",
    "        print(f\"Gender: {self.gender}\")\n",
    "        print(f\"Year: {self.year}\")\n",
    "        print(f\"GPA: {self.gpa:.2f}\")\n",
    "    \n",
    "    # Create a function to calculate the student gpa based on the study time\n",
    "    \"\"\"This method will increase the GPA of the student (formula: gpa = gpa + log(study_time)). The only input argument of this \n",
    "    method is the variable study_time. The highest GPA can not be higher than 4.0. Input: study_time.\n",
    "    This method calculates the natural logarithm of the study_time provided as input to the student_study_time method. \n",
    "    This means that as a student studies for more time, the increase in GPA becomes progressively smaller due \n",
    "    to the logarithmic nature of the function.\"\"\"\n",
    "    def student_study_time(self, study_time):\n",
    "        self.gpa = min(4.0, self.gpa + math.log(study_time))\n",
    "\n",
    "# Create five student objects and store them in a list called student_GPA\n",
    "student1 = Student(\"John\", \"Doe\", \"Male\", \"Sophomore\", 1.5)\n",
    "student2 = Student(\"Jane\", \"Smith\", \"Other\", \"Junior\", 3.2)\n",
    "student3 = Student(\"Mike\", \"Johnson\", \"Prefers not to say\", \"First-year student\", 2.8)\n",
    "student4 = Student(\"Emily\", \"Brown\", \"Female\", \"Senior\", 0.9)\n",
    "student5 = Student(\"Chris\", \"Lee\", \"Male\", \"Junior\", 3.7)\n",
    "\n",
    "student_GPA = [student1, student2, student3, student4, student5]\n",
    "\n",
    "# Display the objects using show_student\n",
    "print(\"Student Information:\")\n",
    "for student in student_GPA:\n",
    "    student.show_student()\n",
    "\n",
    "# Let each one of the five students study for different durations\n",
    "study_times = [30, 60, 90, 120, 180]\n",
    "\n",
    "for i, student in enumerate(student_GPA):\n",
    "    student.student_study_time(study_times[i])\n",
    "\n",
    "# Display the updated objects after studying\n",
    "print(\"\\nStudent Information after Studying:\")\n",
    "for student in student_GPA:\n",
    "    student.show_student()\n"
   ]
  },
  {
   "cell_type": "code",
   "execution_count": 21,
   "metadata": {},
   "outputs": [
    {
     "data": {
      "text/plain": [
       "4.0"
      ]
     },
     "execution_count": 21,
     "metadata": {},
     "output_type": "execute_result"
    }
   ],
   "source": [
    "(180 - (180 - 180))/180 * 4"
   ]
  }
 ],
 "metadata": {
  "kernelspec": {
   "display_name": "ENGenv",
   "language": "python",
   "name": "python3"
  },
  "language_info": {
   "codemirror_mode": {
    "name": "ipython",
    "version": 3
   },
   "file_extension": ".py",
   "mimetype": "text/x-python",
   "name": "python",
   "nbconvert_exporter": "python",
   "pygments_lexer": "ipython3",
   "version": "3.10.9"
  }
 },
 "nbformat": 4,
 "nbformat_minor": 2
}
